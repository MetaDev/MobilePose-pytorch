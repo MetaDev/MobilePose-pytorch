{
  "nbformat": 4,
  "nbformat_minor": 0,
  "metadata": {
    "colab": {
      "name": "webcam_test.ipynb",
      "version": "0.3.2",
      "provenance": [],
      "include_colab_link": true
    },
    "kernelspec": {
      "name": "python3",
      "display_name": "Python 3"
    }
  },
  "cells": [
    {
      "cell_type": "markdown",
      "metadata": {
        "id": "view-in-github",
        "colab_type": "text"
      },
      "source": [
        "<a href=\"https://colab.research.google.com/github/MetaDev/MobilePose-pytorch/blob/master/webcam_test.ipynb\" target=\"_parent\"><img src=\"https://colab.research.google.com/assets/colab-badge.svg\" alt=\"Open In Colab\"/></a>"
      ]
    },
    {
      "cell_type": "code",
      "metadata": {
        "id": "qLHdDh-CFlSs",
        "colab_type": "code",
        "colab": {
          "base_uri": "https://localhost:8080/",
          "height": 34
        },
        "outputId": "1ca04254-c3cf-4922-dbc7-e0b6c266c45d"
      },
      "source": [
        "%pylab inline \n",
        "import cv2\n",
        "from IPython.display import clear_output"
      ],
      "execution_count": 1,
      "outputs": [
        {
          "output_type": "stream",
          "text": [
            "Populating the interactive namespace from numpy and matplotlib\n"
          ],
          "name": "stdout"
        }
      ]
    },
    {
      "cell_type": "code",
      "metadata": {
        "id": "r8HxEat6G7el",
        "colab_type": "code",
        "colab": {}
      },
      "source": [
        "\n",
        "# I have no idea who is the author of the code\n",
        "# in this cell that saves an image from a webcam\n",
        "# inside google colab.\n",
        "# It comes from a notebook called \"📸 Take a photo with your webcam\"\n",
        "\n",
        "from IPython.display import HTML, Audio\n",
        "from google.colab.output import eval_js\n",
        "from base64 import b64decode\n",
        "import numpy as np\n",
        "import io\n",
        "from PIL import Image\n",
        "\n",
        "VIDEO_HTML = \"\"\"\n",
        "<video autoplay\n",
        " width=%d height=%d style='cursor: pointer;'></video>\n",
        "<script>\n",
        "\n",
        "var video = document.querySelector('video')\n",
        "\n",
        "navigator.mediaDevices.getUserMedia({ video: true })\n",
        "  .then(stream=> video.srcObject = stream)\n",
        "  \n",
        "var data = new Promise(resolve=>{\n",
        "  video.onclick = ()=>{\n",
        "    var canvas = document.createElement('canvas')\n",
        "    var [w,h] = [video.offsetWidth, video.offsetHeight]\n",
        "    canvas.width = w\n",
        "    canvas.height = h\n",
        "    canvas.getContext('2d')\n",
        "          .drawImage(video, 0, 0, w, h)\n",
        "    video.srcObject.getVideoTracks()[0].stop()\n",
        "    video.replaceWith(canvas)\n",
        "    resolve(canvas.toDataURL('image/jpeg', %f))\n",
        "  }\n",
        "})\n",
        "</script>\n",
        "\"\"\"\n",
        "def take_photo(filename='photo.jpg', quality=0.8, size=(800,600)):\n",
        "  display(HTML(VIDEO_HTML % (size[0],size[1],quality)))\n",
        "  data = eval_js(\"data\")\n",
        "  binary = b64decode(data.split(',')[1])\n",
        "  f = io.BytesIO(binary)\n",
        "  return np.asarray(Image.open(f))"
      ],
      "execution_count": 0,
      "outputs": []
    },
    {
      "cell_type": "code",
      "metadata": {
        "id": "0VfshYWGFs1l",
        "colab_type": "code",
        "colab": {}
      },
      "source": [
        "# Put the code in try-except statements\n",
        "# Catch the keyboard exception and \n",
        "# release the camera device and \n",
        "# continue with the rest of code.\n",
        "try:\n",
        "\n",
        "  while(True):\n",
        "\n",
        "    # Capture frame-by-frame\n",
        "    frame=take_photo()\n",
        "    print(frame)\n",
        "    if not ret:\n",
        "        # Release the Video Device if ret is false\n",
        "      vid.release()\n",
        "        # Message to be displayed after releasing the device\n",
        "    #             print \"Released Video Resource\"\n",
        "      break\n",
        "\n",
        "    # Convert the image from OpenCV BGR format to matplotlib RGB format\n",
        "    # to display the image\n",
        "    # frame = cv2.cvtColor(frame, cv2.COLOR_BGR2RGB)\n",
        "    # Turn off the axis\n",
        "    axis('off')\n",
        "    # Title of the window\n",
        "    title(\"Input Stream\")\n",
        "    # Display the frame\n",
        "    imshow(frame)\n",
        "    show()\n",
        "  # Display the frame until new frame is available\n",
        "    clear_output(wait=True)\n",
        "except KeyboardInterrupt:\n",
        "    # Release the Video Device\n",
        "    vid.release()\n",
        "    # Message to be displayed after releasing the device\n",
        "#     print \"Released Video Resource\""
      ],
      "execution_count": 0,
      "outputs": []
    },
    {
      "cell_type": "code",
      "metadata": {
        "id": "xy8hq4TkHyUQ",
        "colab_type": "code",
        "colab": {}
      },
      "source": [
        ""
      ],
      "execution_count": 0,
      "outputs": []
    },
    {
      "cell_type": "code",
      "metadata": {
        "id": "rlc5iS_OFv72",
        "colab_type": "code",
        "colab": {
          "base_uri": "https://localhost:8080/",
          "height": 269
        },
        "outputId": "6c0a35ac-62c9-481b-a35b-c13a6f747961"
      },
      "source": [
        ""
      ],
      "execution_count": 3,
      "outputs": [
        {
          "output_type": "display_data",
          "data": {
            "image/png": "[encoded data removed]",
            "text/plain": [
              "<Figure size 432x288 with 1 Axes>"
            ]
          },
          "metadata": {
            "tags": []
          }
        }
      ]
    },
    {
      "cell_type": "code",
      "metadata": {
        "id": "dMcfdDFWF8rI",
        "colab_type": "code",
        "colab": {}
      },
      "source": [
        ""
      ],
      "execution_count": 0,
      "outputs": []
    }
  ]
}